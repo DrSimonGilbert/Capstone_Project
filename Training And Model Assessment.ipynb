{
 "cells": [
  {
   "cell_type": "markdown",
   "metadata": {},
   "source": [
    "26/1/2024\n",
    "Re-run of training using 5,100,100 chunks.\n",
    "Using oversampling of positive (vascular map == 1) training data."
   ]
  },
  {
   "cell_type": "markdown",
   "metadata": {},
   "source": [
    "**Training Code**\n",
    "\n",
    "Inputs are tensors of shape 5,100,100 representing 5 layers of normalised portion from 8 bit grayscale adjacent TIFF slices of kidney CT scan. \n",
    "Each 5 slice 100x100 pixel area is named a 'Chunk'. \n",
    "Labels are derived from a mask map that is either 0 (no vasculature) or 1 (vasculature) at a given pixel. Label that represents the centre of the chunk ie at 50,50 in the middle slice is used. \n",
    "Output for the model is a binary classification - either 0 (no vasculature) or 1 (vaculature).\n"
   ]
  },
  {
   "cell_type": "code",
   "execution_count": 1,
   "metadata": {
    "execution": {
     "iopub.execute_input": "2024-01-28T21:29:53.848094Z",
     "iopub.status.busy": "2024-01-28T21:29:53.847808Z",
     "iopub.status.idle": "2024-01-28T21:30:00.830955Z",
     "shell.execute_reply": "2024-01-28T21:30:00.830204Z",
     "shell.execute_reply.started": "2024-01-28T21:29:53.848068Z"
    }
   },
   "outputs": [
    {
     "name": "stderr",
     "output_type": "stream",
     "text": [
      "/opt/conda/lib/python3.10/site-packages/scipy/__init__.py:146: UserWarning: A NumPy version >=1.16.5 and <1.23.0 is required for this version of SciPy (detected version 1.24.3\n",
      "  warnings.warn(f\"A NumPy version >={np_minversion} and <{np_maxversion}\"\n"
     ]
    }
   ],
   "source": [
    "import numpy as np # linear algebra\n",
    "import pandas as pd # data processing, CSV file I/O (e.g. pd.read_csv)\n",
    "import os\n",
    "from PIL import Image\n",
    "import matplotlib.pyplot as plt\n",
    "\n",
    "from torchvision import transforms\n",
    "import gc\n",
    "import random\n",
    "import torch\n",
    "from torch.utils.data import TensorDataset, DataLoader, random_split\n",
    "from torch.utils.data import Dataset\n",
    "\n",
    "from PIL import Image\n",
    "import os\n",
    "from IPython.display import display\n",
    "from torchvision.transforms import ToPILImage\n",
    "from __future__ import print_function\n",
    "import argparse\n",
    "import torch\n",
    "import torch.nn as nn\n",
    "import torch.nn.functional as F\n",
    "import torch.optim as optim\n",
    "from torchvision import datasets, transforms\n",
    "from torchvision.transforms import ToTensor, ToPILImage\n",
    "from torch.utils.data import random_split\n",
    "from torch.utils.data import DataLoader\n",
    "import copy\n",
    "import sys\n",
    "import os\n",
    "from torch.utils.data import Dataset\n",
    "import pickle\n",
    "from PIL import Image, ImageOps\n",
    "import random\n",
    "import shutil\n",
    "import torch\n",
    "from torch.utils.data import Dataset, DataLoader\n",
    "import os\n",
    "import pickle\n",
    "from torch.utils.data import Dataset\n",
    "import os\n",
    "import torch\n",
    "import torch.nn.functional as F\n",
    "import torch.nn.init as init\n",
    "import torch\n",
    "import torch.nn.functional as F\n",
    "import joblib  # For saving\n",
    "import optuna\n",
    "import random\n",
    "# If you also need other functionalities from skopt, import as needed\n",
    "# from skopt import gp_minimize, use_named_args, etc.\n",
    "from sklearn.metrics import precision_score, recall_score, f1_score\n",
    "from sklearn.metrics import confusion_matrix\n",
    "import joblib\n",
    "from optuna.visualization import plot_optimization_history"
   ]
  },
  {
   "cell_type": "code",
   "execution_count": 2,
   "metadata": {
    "execution": {
     "iopub.execute_input": "2024-01-28T21:30:00.832940Z",
     "iopub.status.busy": "2024-01-28T21:30:00.832517Z",
     "iopub.status.idle": "2024-01-28T21:30:00.898872Z",
     "shell.execute_reply": "2024-01-28T21:30:00.898118Z",
     "shell.execute_reply.started": "2024-01-28T21:30:00.832912Z"
    }
   },
   "outputs": [],
   "source": [
    "torch.manual_seed(6)\n",
    "np.random.seed(6)\n",
    "random.seed(6)\n",
    "torch.backends.cudnn.deterministic = True\n",
    "torch.backends.cudnn.benchmark = False\n",
    "optuna.logging.disable_default_handler()  # Disable Optuna's default logging\n",
    "study = optuna.create_study(direction='maximize', sampler=optuna.samplers.TPESampler(seed=6))\n",
    "device = torch.device(\"cuda:0\" if torch.cuda.is_available() else \"cpu\")"
   ]
  },
  {
   "cell_type": "code",
   "execution_count": 3,
   "metadata": {
    "execution": {
     "iopub.execute_input": "2024-01-28T21:30:00.900764Z",
     "iopub.status.busy": "2024-01-28T21:30:00.900413Z",
     "iopub.status.idle": "2024-01-28T21:30:00.910301Z",
     "shell.execute_reply": "2024-01-28T21:30:00.909454Z",
     "shell.execute_reply.started": "2024-01-28T21:30:00.900730Z"
    }
   },
   "outputs": [],
   "source": [
    "\n",
    "##### create dataloader from train and test folders of chunks\n",
    "#### aim for 1GB dataloaders\n",
    "\n",
    "\n",
    "class CustomDataset(Dataset):\n",
    "    def __init__(self, folder_path, load_fraction=1.0):\n",
    "        self.folder_path = folder_path\n",
    "        all_file_paths = [os.path.join(folder_path, f) for f in os.listdir(folder_path) if f.endswith('.pt')]\n",
    "        \n",
    "        if load_fraction < 1.0:\n",
    "            selected_indices = torch.randperm(len(all_file_paths))[:int(len(all_file_paths) * load_fraction)]\n",
    "            self.file_paths = [all_file_paths[i] for i in selected_indices]\n",
    "        else:\n",
    "            self.file_paths = all_file_paths\n",
    "\n",
    "    def __len__(self):\n",
    "        return len(self.file_paths)\n",
    "\n",
    "    def __getitem__(self, idx):\n",
    "        file_path = self.file_paths[idx]\n",
    "        data = torch.load(file_path)\n",
    "        image = data['images']\n",
    "        label = data['target_label']\n",
    "\n",
    "        # Ensure the image is a float tensor\n",
    "        image = image.float()\n",
    "\n",
    "        # Normalize the image\n",
    "        image = image / 65535.0  # Adjust for 16-bit image range\n",
    "\n",
    "        # Squeeze the image in case it has an unnecessary extra dimension\n",
    "        image = torch.squeeze(image, dim=1)\n",
    "\n",
    "        return image, label\n",
    "\n",
    "# Usage\n",
    "# train_dataset = CustomDataset('path/to/train_data')\n",
    "# test_dataset = CustomDataset('path/to/test_data')\n",
    "\n",
    "    \n",
    "    \n",
    "# Replace these paths with your actual folder paths\n",
    "#train_folder = 'chunks/train'\n",
    "#test_folder = 'chunks/test'\n",
    "\n",
    "#train_dataset = CustomDataset(train_folder)\n",
    "#test_dataset = CustomDataset(test_folder)\n",
    "# Placeholder for batch size - replace with your calculated value\n",
    "\n",
    "# Load only 50% of the data\n",
    "#train_dataset = CustomDataset('path/to/train_data', load_fraction=0.5)\n",
    "#train_loader = DataLoader(train_dataset, batch_size=your_batch_size, shuffle=True, num_workers=your_num_workers)\n",
    "\n",
    "\n",
    "\n"
   ]
  },
  {
   "cell_type": "code",
   "execution_count": 4,
   "metadata": {
    "execution": {
     "iopub.execute_input": "2024-01-28T21:30:00.912660Z",
     "iopub.status.busy": "2024-01-28T21:30:00.912396Z",
     "iopub.status.idle": "2024-01-28T21:30:00.925629Z",
     "shell.execute_reply": "2024-01-28T21:30:00.924902Z",
     "shell.execute_reply.started": "2024-01-28T21:30:00.912637Z"
    }
   },
   "outputs": [],
   "source": [
    "train_folder = '/kaggle/input/vascularchunks1/train_chunks'\n",
    "test_folder = '/kaggle/input/vascularchunks1/test_chunks'\n",
    "#train_folder = 'chunks/train'\n",
    "#test_folder = 'chunks/test'\n",
    "\n",
    "\n"
   ]
  },
  {
   "cell_type": "code",
   "execution_count": 5,
   "metadata": {
    "execution": {
     "iopub.execute_input": "2024-01-28T21:30:00.926901Z",
     "iopub.status.busy": "2024-01-28T21:30:00.926637Z",
     "iopub.status.idle": "2024-01-28T21:30:00.936803Z",
     "shell.execute_reply": "2024-01-28T21:30:00.935968Z",
     "shell.execute_reply.started": "2024-01-28T21:30:00.926878Z"
    }
   },
   "outputs": [],
   "source": [
    "#### Model for 5* 100 * 100 images\n",
    "\n",
    "class BinaryClassificationCNN(nn.Module):\n",
    "    def __init__(self, dropout_rate=0.5):\n",
    "        super(BinaryClassificationCNN, self).__init__()\n",
    "        self.conv1 = nn.Conv2d(5, 32, kernel_size=3, padding=1)\n",
    "        self.conv2 = nn.Conv2d(32, 64, kernel_size=3, padding=1)\n",
    "        self.pool = nn.MaxPool2d(kernel_size=2, stride=2)\n",
    "        self.dropout = nn.Dropout(dropout_rate)  # 50% dropout\n",
    "        self.fc1 = nn.Linear(64 * 25 * 25, 128)  # Adjust the input size here\n",
    "        self.fc2 = nn.Linear(128, 2)  # Output layer for binary classification\n",
    "\n",
    "        # Weight Initialization\n",
    "        for m in self.modules():\n",
    "            if isinstance(m, nn.Conv2d) or isinstance(m, nn.Linear):\n",
    "                init.xavier_uniform_(m.weight)\n",
    "                init.zeros_(m.bias)\n",
    "\n",
    "    def forward(self, x):\n",
    "        x = self.pool(torch.relu(self.conv1(x)))\n",
    "        x = self.pool(torch.relu(self.conv2(x)))\n",
    "        x = x.view(-1, 64 * 25 * 25)  # Adjust the input size here\n",
    "        x = torch.relu(self.fc1(x))\n",
    "        x = self.dropout(x)  # Apply dropout\n",
    "        x = self.fc2(x)\n",
    "        return x\n"
   ]
  },
  {
   "cell_type": "code",
   "execution_count": 6,
   "metadata": {
    "execution": {
     "iopub.execute_input": "2024-01-28T21:30:00.938141Z",
     "iopub.status.busy": "2024-01-28T21:30:00.937852Z",
     "iopub.status.idle": "2024-01-28T21:30:00.954767Z",
     "shell.execute_reply": "2024-01-28T21:30:00.953889Z",
     "shell.execute_reply.started": "2024-01-28T21:30:00.938097Z"
    }
   },
   "outputs": [],
   "source": [
    "\n",
    "class ModelTrainer:\n",
    "    def __init__(self, model, train_loader, test_loader, criterion, optimizer, device, num_epochs=40, accumulation_steps=4):\n",
    "        self.model = model\n",
    "        self.train_loader = train_loader\n",
    "        self.test_loader = test_loader\n",
    "        self.criterion = criterion\n",
    "        self.optimizer = optimizer\n",
    "        self.device = device\n",
    "        self.num_epochs = num_epochs\n",
    "        self.accumulation_steps = accumulation_steps\n",
    "        self.best_model = None\n",
    "        self.best_accuracy = 0\n",
    "        self.best_epoch = 0\n",
    "\n",
    "    def train_epoch(self):\n",
    "        self.model.train()\n",
    "        running_loss = 0.0\n",
    "        for i, data in enumerate(self.train_loader, 0):\n",
    "            inputs, labels = data[0].to(self.device), data[1].to(self.device)\n",
    "            labels = labels.squeeze()\n",
    "            self.optimizer.zero_grad()\n",
    "\n",
    "            outputs = self.model(inputs)\n",
    "            loss = self.criterion(outputs, labels)\n",
    "            loss.backward()\n",
    "\n",
    "            if (i + 1) % self.accumulation_steps == 0:\n",
    "                self.optimizer.step()\n",
    "                self.optimizer.zero_grad()\n",
    "\n",
    "            running_loss += loss.item()\n",
    "\n",
    "        # Average loss for the epoch\n",
    "        avg_loss = running_loss / len(self.train_loader)\n",
    "        return avg_loss\n",
    "\n",
    "    def evaluate(self, loader):\n",
    "        self.model.eval()\n",
    "        correct = 0\n",
    "        total = 0\n",
    "        with torch.no_grad():\n",
    "            for data in loader:\n",
    "                images, labels = data[0].to(self.device), data[1].to(self.device)\n",
    "                if labels.dim() == 0:\n",
    "                    # Skip accuracy calculation for this batch\n",
    "                    continue\n",
    "                labels = labels.squeeze()\n",
    "                outputs = self.model(images)\n",
    "                _, predicted = torch.max(outputs, 1)\n",
    "                try:\n",
    "                    total += labels.size(0)\n",
    "                except:\n",
    "                    print(f'labels size 0 caused an error: {labels}')\n",
    "                correct += (predicted == labels).sum().item()\n",
    "        accuracy = 100 * correct / total  # Convert to percentage\n",
    "        return accuracy\n",
    "\n",
    "    def train(self):\n",
    "        for epoch in range(self.num_epochs):\n",
    "            avg_loss = self.train_epoch()\n",
    "            training_acc = self.evaluate(self.train_loader)\n",
    "            test_acc = self.evaluate(self.test_loader)\n",
    "            print(f'Epoch {epoch + 1}/{self.num_epochs} completed. Loss: {avg_loss:.4f}, Training Accuracy: {training_acc:.4f}, Test Accuracy: {test_acc:.4f}')\n",
    "\n",
    "            # Check if current model is the best model\n",
    "            if test_acc > self.best_accuracy:\n",
    "                self.best_accuracy = test_acc\n",
    "                self.best_epoch = epoch + 1\n",
    "                self.best_model = copy.deepcopy(self.model)\n",
    "                print(f\"New best model found at epoch {self.best_epoch} with Test Accuracy: {self.best_accuracy:.4f}\")\n",
    "\n",
    "        print('Finished Training')\n",
    "        return self.best_epoch, self.best_accuracy, self.best_model\n"
   ]
  },
  {
   "cell_type": "code",
   "execution_count": 7,
   "metadata": {
    "execution": {
     "iopub.execute_input": "2024-01-28T21:30:00.956618Z",
     "iopub.status.busy": "2024-01-28T21:30:00.956177Z",
     "iopub.status.idle": "2024-01-28T21:30:00.969150Z",
     "shell.execute_reply": "2024-01-28T21:30:00.968302Z",
     "shell.execute_reply.started": "2024-01-28T21:30:00.956587Z"
    }
   },
   "outputs": [],
   "source": [
    "##### UNUSED CODE ####\n",
    "##### not used, saved in case we need to re check surface dice method\n",
    "class BinaryClassificationEvaluator:\n",
    "    def __init__(self, model, device):\n",
    "        self.model = model\n",
    "        self.device = device\n",
    "\n",
    "    def evaluate(self, loader):\n",
    "        self.model.eval()\n",
    "        total = 0\n",
    "        correct = 0\n",
    "        predicted_labels = []\n",
    "        true_labels = []\n",
    "\n",
    "        with torch.no_grad():\n",
    "            for data in loader:\n",
    "                images, labels = data[0].to(self.device), data[1].to(self.device)\n",
    "                labels = labels.squeeze()\n",
    "                outputs = self.model(images)\n",
    "                _, predicted = torch.max(outputs, 1)\n",
    "                total += labels.size(0)\n",
    "                correct += (predicted == labels).sum().item()\n",
    "\n",
    "                # Move tensors to CPU and convert to numpy arrays\n",
    "                true_labels.extend(labels.cpu().numpy().flatten().astype(int))\n",
    "                predicted_labels.extend(predicted.cpu().numpy().flatten().astype(int))\n",
    "\n",
    "        # Calculate accuracy\n",
    "        accuracy = correct / total\n",
    "\n",
    "        # Calculate precision, recall, and F1 score\n",
    "        precision = precision_score(true_labels, predicted_labels)\n",
    "        recall = recall_score(true_labels, predicted_labels)\n",
    "        f1 = f1_score(true_labels, predicted_labels)\n",
    "\n",
    "        # Calculate confusion matrix\n",
    "        confusion = confusion_matrix(true_labels, predicted_labels)\n",
    "\n",
    "        # Calculate Surface Dice Score\n",
    "        surface_dice_score = self.calculate_surface_dice(true_labels, predicted_labels)\n",
    "\n",
    "        return accuracy, precision, recall, f1, confusion, surface_dice_score\n",
    "\n",
    "    def calculate_surface_dice(self, true_labels, predicted_labels):\n",
    "        # Convert lists to numpy arrays\n",
    "        true_mask = np.array(true_labels)\n",
    "        predicted_mask = np.array(predicted_labels)\n",
    "\n",
    "        # Calculate Surface Dice Score\n",
    "        intersection = np.sum(true_mask * predicted_mask)\n",
    "        union = np.sum(true_mask) + np.sum(predicted_mask)\n",
    "        surface_dice_score = (2.0 * intersection) / union if union > 0 else 1.0\n",
    "\n",
    "        return surface_dice_score\n"
   ]
  },
  {
   "cell_type": "code",
   "execution_count": 8,
   "metadata": {
    "execution": {
     "iopub.execute_input": "2024-01-28T21:30:00.970506Z",
     "iopub.status.busy": "2024-01-28T21:30:00.970215Z",
     "iopub.status.idle": "2024-01-28T21:30:00.981472Z",
     "shell.execute_reply": "2024-01-28T21:30:00.980480Z",
     "shell.execute_reply.started": "2024-01-28T21:30:00.970483Z"
    }
   },
   "outputs": [],
   "source": [
    "########### Oversampling of positive values as too many false positives and the true map has < 1% positive values ##########"
   ]
  },
  {
   "cell_type": "code",
   "execution_count": 9,
   "metadata": {
    "execution": {
     "iopub.execute_input": "2024-01-28T21:30:00.982748Z",
     "iopub.status.busy": "2024-01-28T21:30:00.982471Z",
     "iopub.status.idle": "2024-01-28T21:30:00.991856Z",
     "shell.execute_reply": "2024-01-28T21:30:00.990935Z",
     "shell.execute_reply.started": "2024-01-28T21:30:00.982714Z"
    }
   },
   "outputs": [],
   "source": [
    "import os\n",
    "import torch\n",
    "from torch.utils.data import Dataset\n",
    "\n",
    "class CustomDataset(Dataset):\n",
    "    def __init__(self, folder_path, load_fraction=1.0):\n",
    "        self.folder_path = folder_path\n",
    "        all_file_paths = [os.path.join(folder_path, f) for f in os.listdir(folder_path) if f.endswith('.pt')]\n",
    "\n",
    "        if load_fraction < 1.0:\n",
    "            selected_indices = torch.randperm(len(all_file_paths))[:int(len(all_file_paths) * load_fraction)]\n",
    "            self.file_paths = [all_file_paths[i] for i in selected_indices]\n",
    "        else:\n",
    "            self.file_paths = all_file_paths\n",
    "\n",
    "        # Load labels for all files for weighted sampling\n",
    "        self.labels = [torch.load(file_path)['target_label'] for file_path in self.file_paths]\n",
    "\n",
    "    def __len__(self):\n",
    "        return len(self.file_paths)\n",
    "\n",
    "    def __getitem__(self, idx):\n",
    "        file_path = self.file_paths[idx]\n",
    "        data = torch.load(file_path)\n",
    "        image = data['images']\n",
    "        label = data['target_label']\n",
    "\n",
    "        # Image processing\n",
    "        image = image.float()\n",
    "        image = image / 65535.0\n",
    "        image = torch.squeeze(image, dim=1)\n",
    "\n",
    "        return image, label\n",
    "\n"
   ]
  },
  {
   "cell_type": "code",
   "execution_count": 10,
   "metadata": {
    "execution": {
     "iopub.execute_input": "2024-01-28T21:30:00.996024Z",
     "iopub.status.busy": "2024-01-28T21:30:00.995327Z",
     "iopub.status.idle": "2024-01-28T21:30:01.002590Z",
     "shell.execute_reply": "2024-01-28T21:30:01.001720Z",
     "shell.execute_reply.started": "2024-01-28T21:30:00.995991Z"
    }
   },
   "outputs": [],
   "source": [
    "from torch.utils.data import DataLoader, WeightedRandomSampler\n",
    "\n",
    "def prep_loader_oversampling(dataset, batch_size, class_weights):\n",
    "    # Convert labels from tensors to integers\n",
    " \n",
    "    labels_as_integers = [label.item() for label in dataset.labels]\n",
    "\n",
    "    # Calculate weights for each instance in the dataset\n",
    "    sample_weights = [class_weights[label] for label in labels_as_integers]\n",
    "\n",
    "    # Create a WeightedRandomSampler\n",
    "    sampler = WeightedRandomSampler(sample_weights, num_samples=len(sample_weights), replacement=True)\n",
    "\n",
    "    # Create and return the DataLoader\n",
    "    return DataLoader(dataset, batch_size=batch_size, sampler=sampler, drop_last=True)\n",
    "\n"
   ]
  },
  {
   "cell_type": "code",
   "execution_count": 11,
   "metadata": {
    "execution": {
     "iopub.execute_input": "2024-01-28T21:30:01.004123Z",
     "iopub.status.busy": "2024-01-28T21:30:01.003843Z",
     "iopub.status.idle": "2024-01-28T21:30:01.017873Z",
     "shell.execute_reply": "2024-01-28T21:30:01.017064Z",
     "shell.execute_reply.started": "2024-01-28T21:30:01.004091Z"
    }
   },
   "outputs": [],
   "source": [
    "import joblib\n",
    "import torch.optim as optim\n",
    "import torch.nn as nn\n",
    "\n",
    "def objective_oversampling(trial):\n",
    "    # Suggest hyperparameters\n",
    "    learning_rate = trial.suggest_loguniform('learning_rate', 1e-6, 1e-1)\n",
    "    momentum = trial.suggest_uniform('momentum', 0.5, 0.99)\n",
    "    dropout_rate = trial.suggest_uniform('dropout_rate', 0.1, 0.7)\n",
    "    batch_size = trial.suggest_int('batch_size', 8, 32)\n",
    "    #batch_size = 12\n",
    "\n",
    "    # Define class weights for oversampling\n",
    "    class_weights = {0: 0.3, 1: 0.7}  # Modify as needed\n",
    "    default_class_weights = {0: 0.5, 1: 0.5}\n",
    "    # Set up data loaders with oversampling\n",
    "    train_loader = prep_loader_oversampling(train_dataset, batch_size, class_weights)\n",
    "    test_loader = prep_loader_oversampling(test_dataset, batch_size, default_class_weights)  # Assuming normal loader for test set\n",
    "\n",
    "    # Initialize the model\n",
    "    model = BinaryClassificationCNN(dropout_rate=dropout_rate).to(device)\n",
    "    criterion = nn.CrossEntropyLoss()\n",
    "    optimizer = optim.SGD(model.parameters(), lr=learning_rate, momentum=momentum)\n",
    "\n",
    "    # Train the model\n",
    "    trainer = ModelTrainer(model, train_loader, test_loader, criterion, optimizer, device, num_epochs=100)\n",
    "    _, best_accuracy, best_model = trainer.train()\n",
    "\n",
    "    # Save the model and hyperparameters\n",
    "    save_path = f\"/kaggle/working/model_lr_{learning_rate}_momentum_{momentum}_dropout_{dropout_rate}_batch_{batch_size}.pkl\"\n",
    "    joblib.dump({'model': best_model, 'params': {'learning_rate': learning_rate, 'momentum': momentum, 'dropout_rate': dropout_rate, 'batch_size': batch_size}, 'best_accuracy': best_accuracy}, save_path)\n",
    "    ## Save the study object\n",
    "    try:\n",
    "        \n",
    "        joblib.dump(study, \"/kaggle/working/optuna_study_oversampling.pkl\")\n",
    "        with open(\"/kaggle/working/optuna_study_oversampling.pkl\", \"wb\") as study_file:\n",
    "            pickle.dump(study, study_file)\n",
    "        trial = study.best_trial\n",
    "\n",
    "        print(f\" Value: {trial.value}\")\n",
    "        print(\" Params: \")\n",
    "        for key, value in trial.params.items():\n",
    "            print(f\"    {key}: {value}\")\n",
    "        print(f'Trial best value is: {trial.best_accuracy}')\n",
    "        # Print the best trial number and parameters\n",
    "        #best_trial = study.best_trial\n",
    "        #print(f\"Best Trial - Number: {best_trial.number}\")\n",
    "        #print(\"Best Trial - Parameters:\")\n",
    "        #for key, value in best_trial.params.items():\n",
    "        #    print(f\"    {key}: {value}\")\n",
    "        #print(f\"Best Accuracy: {best_accuracy}\")\n",
    "    except Exception as e:\n",
    "    # Handle the exception\n",
    "        print(f\"An error occurred: {e}\")\n",
    "    # The code continues after this block\n",
    "\n",
    "\n",
    "    return best_accuracy\n"
   ]
  },
  {
   "cell_type": "code",
   "execution_count": 12,
   "metadata": {
    "execution": {
     "iopub.execute_input": "2024-01-28T21:30:01.019187Z",
     "iopub.status.busy": "2024-01-28T21:30:01.018861Z",
     "iopub.status.idle": "2024-01-28T21:30:07.582523Z",
     "shell.execute_reply": "2024-01-28T21:30:07.581510Z",
     "shell.execute_reply.started": "2024-01-28T21:30:01.019142Z"
    }
   },
   "outputs": [],
   "source": [
    "# Define class weights\n",
    "class_weights = {0: 0.3, 1: 0.7}\n",
    "\n",
    "# Create dataset instances\n",
    "train_folder = '/kaggle/input/vascularchunks1/train_chunks'\n",
    "test_folder = '/kaggle/input/vascularchunks1/test_chunks'\n",
    "#train_folder = 'chunks/train'\n",
    "#test_folder = 'chunks/test'\n",
    "\n",
    "train_dataset = CustomDataset(train_folder)\n",
    "test_dataset = CustomDataset(test_folder)\n",
    "\n",
    "\n",
    "# Define batch size\n",
    "#batch_size = 32\n",
    "\n",
    "# Prepare DataLoaders\n",
    "#train_loader = prep_loader_oversampling(train_dataset, batch_size, class_weights)\n",
    "#test_loader = DataLoader(test_dataset, batch_size=batch_size)  # Assuming no class weighting for testing\n",
    "\n",
    "\n"
   ]
  },
  {
   "cell_type": "code",
   "execution_count": 13,
   "metadata": {
    "execution": {
     "iopub.execute_input": "2024-01-28T21:30:07.584040Z",
     "iopub.status.busy": "2024-01-28T21:30:07.583741Z",
     "iopub.status.idle": "2024-01-28T21:30:07.588561Z",
     "shell.execute_reply": "2024-01-28T21:30:07.587403Z",
     "shell.execute_reply.started": "2024-01-28T21:30:07.584007Z"
    }
   },
   "outputs": [],
   "source": [
    "# Use train_loader and test_loader in your training and testing loops\n",
    "########### USE CODE BELOW TO TRAIN 2024 01 \n",
    "########### CODE BELOW COMMENTED OUT - UNCOMMENT FOR TRAINING RUN ##################\n",
    "#study = optuna.create_study(direction='maximize')\n",
    "#study.optimize(objective_oversampling, n_trials=30)"
   ]
  },
  {
   "cell_type": "code",
   "execution_count": 14,
   "metadata": {
    "execution": {
     "iopub.execute_input": "2024-01-28T21:30:07.590387Z",
     "iopub.status.busy": "2024-01-28T21:30:07.589718Z",
     "iopub.status.idle": "2024-01-28T21:30:07.624984Z",
     "shell.execute_reply": "2024-01-28T21:30:07.624209Z",
     "shell.execute_reply.started": "2024-01-28T21:30:07.590362Z"
    }
   },
   "outputs": [],
   "source": [
    "########## CODE TO LOAD TRIAL DATA\n",
    "\n",
    "\n",
    "study_path = '/kaggle/input/capstone-2024-write-up/optuna_study_oversampling.pkl'\n",
    "\n",
    "try:\n",
    "    study = joblib.load(study_path)\n",
    "    # You can now access and analyze the loaded study\n",
    "except Exception as e:\n",
    "    print(f\"Error loading the joblib file: {e}\")\n"
   ]
  },
  {
   "cell_type": "code",
   "execution_count": 15,
   "metadata": {
    "execution": {
     "iopub.execute_input": "2024-01-28T21:30:07.626816Z",
     "iopub.status.busy": "2024-01-28T21:30:07.626105Z",
     "iopub.status.idle": "2024-01-28T21:30:07.652194Z",
     "shell.execute_reply": "2024-01-28T21:30:07.651268Z",
     "shell.execute_reply.started": "2024-01-28T21:30:07.626766Z"
    }
   },
   "outputs": [
    {
     "name": "stdout",
     "output_type": "stream",
     "text": [
      " Value: 88.43537414965986\n",
      " Params: \n",
      "    learning_rate: 0.0024435642230605137\n",
      "    momentum: 0.9521176292803581\n",
      "    dropout_rate: 0.6827284555071912\n",
      "    batch_size: 21\n"
     ]
    },
    {
     "data": {
      "text/plain": [
       "['/kaggle/working/optuna_study_oversampling.pkl']"
      ]
     },
     "execution_count": 15,
     "metadata": {},
     "output_type": "execute_result"
    }
   ],
   "source": [
    "#print(\"Best trial:\")\n",
    "trial = study.best_trial\n",
    "\n",
    "print(f\" Value: {trial.value}\")\n",
    "print(\" Params: \")\n",
    "for key, value in trial.params.items():\n",
    "    print(f\"    {key}: {value}\")\n",
    "joblib.dump(study, \"/kaggle/working/optuna_study_oversampling.pkl\")"
   ]
  },
  {
   "cell_type": "code",
   "execution_count": 16,
   "metadata": {
    "execution": {
     "iopub.execute_input": "2024-01-28T21:30:07.654082Z",
     "iopub.status.busy": "2024-01-28T21:30:07.653437Z",
     "iopub.status.idle": "2024-01-28T21:30:08.244085Z",
     "shell.execute_reply": "2024-01-28T21:30:08.243140Z",
     "shell.execute_reply.started": "2024-01-28T21:30:07.654054Z"
    }
   },
   "outputs": [],
   "source": [
    "####### load the best model\n",
    "\n",
    "model_path = '/kaggle/input/best-model-2024-01/model_lr_0.0024435642230605137_momentum_0.9521176292803581_dropout_0.6827284555071912_batch_21.pkl'\n",
    "\n",
    "try:\n",
    "    loaded_model = joblib.load(model_path)\n",
    "    # You now have the loaded model in the 'loaded_model' variable\n",
    "except Exception as e:\n",
    "    print(f\"Error loading the model: {e}\")\n"
   ]
  },
  {
   "cell_type": "code",
   "execution_count": 17,
   "metadata": {
    "execution": {
     "iopub.execute_input": "2024-01-28T21:30:08.245827Z",
     "iopub.status.busy": "2024-01-28T21:30:08.245442Z",
     "iopub.status.idle": "2024-01-28T21:30:08.267915Z",
     "shell.execute_reply": "2024-01-28T21:30:08.266975Z",
     "shell.execute_reply.started": "2024-01-28T21:30:08.245791Z"
    }
   },
   "outputs": [
    {
     "name": "stdout",
     "output_type": "stream",
     "text": [
      "Trial 0: Result = 58.04195804195804\n",
      "Trial 1: Result = 57.142857142857146\n",
      "Trial 2: Result = 81.25\n",
      "Trial 3: Result = 57.79220779220779\n",
      "Trial 4: Result = 84.66666666666667\n",
      "Trial 5: Result = 55.46875\n",
      "Trial 6: Result = 84.86842105263158\n",
      "Trial 7: Result = 63.19444444444444\n",
      "Trial 8: Result = 88.43537414965986\n",
      "Trial 9: Result = 56.94444444444444\n",
      "Trial 10: Result = 85.33333333333333\n",
      "Trial 11: Result = 83.84615384615384\n",
      "Trial 12: Result = 56.52173913043478\n",
      "Trial 13: Result = 84.28571428571429\n",
      "Trial 14: Result = 84.21052631578948\n",
      "Trial 15: Result = 58.0\n",
      "Trial 16: Result = 86.84210526315789\n",
      "Trial 17: Result = 86.39455782312925\n",
      "Trial 18: Result = 85.0\n",
      "Trial 19: Result = 58.169934640522875\n",
      "Trial 20: Result = 85.41666666666667\n",
      "Trial 21: Result = 86.36363636363636\n",
      "Trial 22: Result = 84.05797101449275\n",
      "Trial 23: Result = 83.11688311688312\n",
      "Trial 24: Result = 78.57142857142857\n",
      "Trial 25: Result = 86.66666666666667\n",
      "Trial 26: Result = 85.33333333333333\n",
      "Trial 27: Result = 57.638888888888886\n",
      "Trial 28: Result = 77.33333333333333\n",
      "Trial 29: Result = 55.24475524475525\n"
     ]
    }
   ],
   "source": [
    "import optuna\n",
    "import joblib\n",
    "\n",
    "study_path = '/kaggle/input/capstone-2024-write-up/optuna_study_oversampling.pkl'\n",
    "\n",
    "try:\n",
    "    study = joblib.load(study_path)\n",
    "    # You can now access and analyze the loaded study\n",
    "    \n",
    "    # Iterate over each trial and find the result\n",
    "    for trial in study.trials:\n",
    "        trial_number = trial.number\n",
    "        result = trial.value  # The result of the trial's objective function\n",
    "        print(f\"Trial {trial_number}: Result = {result}\")\n",
    "except Exception as e:\n",
    "    print(f\"Error loading the joblib file: {e}\")\n"
   ]
  },
  {
   "cell_type": "code",
   "execution_count": 18,
   "metadata": {
    "execution": {
     "iopub.execute_input": "2024-01-28T21:30:08.269709Z",
     "iopub.status.busy": "2024-01-28T21:30:08.268950Z",
     "iopub.status.idle": "2024-01-28T21:30:08.654778Z",
     "shell.execute_reply": "2024-01-28T21:30:08.653809Z",
     "shell.execute_reply.started": "2024-01-28T21:30:08.269682Z"
    }
   },
   "outputs": [
    {
     "data": {
      "image/png": "[encoded data removed]",
      "text/plain": [
       "<Figure size 1000x600 with 1 Axes>"
      ]
     },
     "metadata": {},
     "output_type": "display_data"
    }
   ],
   "source": [
    "import optuna\n",
    "import joblib\n",
    "import matplotlib.pyplot as plt\n",
    "\n",
    "study_path = '/kaggle/input/capstone-2024-write-up/optuna_study_oversampling.pkl'\n",
    "\n",
    "try:\n",
    "    study = joblib.load(study_path)\n",
    "    # You can now access and analyze the loaded study\n",
    "    \n",
    "    # Initialize lists to store trial numbers and results\n",
    "    trial_numbers = []\n",
    "    results = []\n",
    "    \n",
    "    # Iterate over each trial and collect trial number and result\n",
    "    for trial in study.trials:\n",
    "        trial_numbers.append(trial.number)\n",
    "        results.append(trial.value)\n",
    "    \n",
    "    # Create a plot of results vs. trial number\n",
    "    plt.figure(figsize=(10, 6))\n",
    "    plt.plot(trial_numbers, results, marker='o', linestyle='-')\n",
    "    plt.xlabel('Trial Number')\n",
    "    plt.ylabel('Result')\n",
    "    plt.title('Accuracy (on Test set) of most recent trial')\n",
    "    plt.grid(True)\n",
    "    plt.show()\n",
    "except Exception as e:\n",
    "    print(f\"Error loading the joblib file: {e}\")\n"
   ]
  },
  {
   "cell_type": "code",
   "execution_count": 19,
   "metadata": {
    "execution": {
     "iopub.execute_input": "2024-01-28T21:30:08.656431Z",
     "iopub.status.busy": "2024-01-28T21:30:08.656094Z",
     "iopub.status.idle": "2024-01-28T21:30:08.929402Z",
     "shell.execute_reply": "2024-01-28T21:30:08.928422Z",
     "shell.execute_reply.started": "2024-01-28T21:30:08.656403Z"
    }
   },
   "outputs": [
    {
     "data": {
      "image/png": "[encoded data removed]",
      "text/plain": [
       "<Figure size 1000x600 with 1 Axes>"
      ]
     },
     "metadata": {},
     "output_type": "display_data"
    }
   ],
   "source": [
    "import optuna\n",
    "import joblib\n",
    "import matplotlib.pyplot as plt\n",
    "\n",
    "study_path = '/kaggle/input/capstone-2024-write-up/optuna_study_oversampling.pkl'\n",
    "\n",
    "try:\n",
    "    study = joblib.load(study_path)\n",
    "    # You can now access and analyze the loaded study\n",
    "    \n",
    "    # Initialize lists to store trial numbers and cumulative best results\n",
    "    trial_numbers = []\n",
    "    cumulative_best_results = []\n",
    "    current_best = float('-inf')  # Initialize with negative infinity\n",
    "    \n",
    "    # Iterate over each trial and collect trial number and best result\n",
    "    for trial in study.trials:\n",
    "        trial_number = trial.number\n",
    "        result = trial.value\n",
    "        if result > current_best:\n",
    "            current_best = result  # Update the current best result if a new best is found\n",
    "        trial_numbers.append(trial_number)\n",
    "        cumulative_best_results.append(current_best)\n",
    "    \n",
    "    # Create a plot of cumulative best results vs. trial number\n",
    "    plt.figure(figsize=(10, 6))\n",
    "    plt.plot(trial_numbers, cumulative_best_results, marker='o', linestyle='-')\n",
    "    plt.xlabel('Trial Number')\n",
    "    plt.ylabel('Rolling Best Accuracy')\n",
    "    plt.title('Running Best Accuracy (Test Set)')\n",
    "    plt.grid(True)\n",
    "    plt.show()\n",
    "except Exception as e:\n",
    "    print(f\"Error loading the joblib file: {e}\")\n"
   ]
  },
  {
   "cell_type": "code",
   "execution_count": null,
   "metadata": {},
   "outputs": [],
   "source": []
  }
 ],
 "metadata": {
  "kaggle": {
   "accelerator": "nvidiaTeslaT4",
   "dataSources": [
    {
     "databundleVersionId": 6962461,
     "sourceId": 61446,
     "sourceType": "competition"
    },
    {
     "datasetId": 4087926,
     "sourceId": 7093370,
     "sourceType": "datasetVersion"
    },
    {
     "datasetId": 4108592,
     "sourceId": 7122811,
     "sourceType": "datasetVersion"
    },
    {
     "datasetId": 4366192,
     "sourceId": 7498228,
     "sourceType": "datasetVersion"
    },
    {
     "datasetId": 4366217,
     "sourceId": 7498263,
     "sourceType": "datasetVersion"
    },
    {
     "datasetId": 4366244,
     "sourceId": 7498295,
     "sourceType": "datasetVersion"
    },
    {
     "sourceId": 160734918,
     "sourceType": "kernelVersion"
    }
   ],
   "dockerImageVersionId": 30588,
   "isGpuEnabled": true,
   "isInternetEnabled": true,
   "language": "python",
   "sourceType": "notebook"
  },
  "kernelspec": {
   "display_name": "Python 3 (ipykernel)",
   "language": "python",
   "name": "python3"
  },
  "language_info": {
   "codemirror_mode": {
    "name": "ipython",
    "version": 3
   },
   "file_extension": ".py",
   "mimetype": "text/x-python",
   "name": "python",
   "nbconvert_exporter": "python",
   "pygments_lexer": "ipython3",
   "version": "3.11.0"
  }
 },
 "nbformat": 4,
 "nbformat_minor": 4
}
